{
  "cells": [
    {
      "cell_type": "code",
      "metadata": {},
      "source": [
        "import argparse\n",
        "import chess\n",
        "import datetime\n",
        "import random\n",
        "from reconchess import play_remote_game\n",
        "from reconchess.scripts.rc_connect import RBCServer, ask_for_auth\n",
        "from reconchess.scripts.rc_play import UIPlayer\n",
        "\n",
        "\n",
        "def main():\n",
        "    parser = argparse.ArgumentParser(formatter_class=argparse.ArgumentDefaultsHelpFormatter)\n",
        "    parser.add_argument('--color', default='random', choices=['white', 'black', 'random'],\n",
        "                        help='The color you want to play as.')\n",
        "    parser.add_argument('--server-url', default='https://rbc.jhuapl.edu', help='URL of the server.')\n",
        "    args = parser.parse_args()\n",
        "\n",
        "    auth = ask_for_auth()\n",
        "\n",
        "    server = RBCServer(args.server_url, auth)\n",
        "\n",
        "    usernames = server.get_active_users()\n",
        "\n",
        "    if auth[0] in usernames:\n",
        "        usernames.remove(auth[0])\n",
        "\n",
        "    if len(usernames) == 0:\n",
        "        print('No active users.')\n",
        "        quit()\n",
        "\n",
        "    for i, username in enumerate(usernames):\n",
        "        print('[{}] {}'.format(i, username))\n",
        "    i = int(input('Choose opponent: '))\n",
        "\n",
        "    color = chess.WHITE\n",
        "    if args.color == 'black' or (args.color == 'random' and random.uniform(0, 1) < 0.5):\n",
        "        color = chess.BLACK\n",
        "\n",
        "    game_id = server.send_invitation(usernames[i], color)\n",
        "\n",
        "    winner_color, win_reason, game_history = play_remote_game(args.server_url, game_id, auth, UIPlayer())\n",
        "\n",
        "    winner = 'Draw' if winner_color is None else chess.COLOR_NAMES[winner_color]\n",
        "    timestamp = datetime.datetime.now().strftime('%Y-%m-%d-%H-%M-%S')\n",
        "    game_history.save('{}_{}_{}.json'.format(timestamp, game_id, winner))\n",
        "\n",
        "\n",
        "if __name__ == '__main__':\n",
        "    main()\n"
      ],
      "outputs": [],
      "execution_count": null
    }
  ],
  "metadata": {
    "anaconda-cloud": {},
    "kernelspec": {
      "display_name": "Python 3",
      "language": "python",
      "name": "python3"
    },
    "language_info": {
      "codemirror_mode": {
        "name": "ipython",
        "version": 3
      },
      "file_extension": ".py",
      "mimetype": "text/x-python",
      "name": "python",
      "nbconvert_exporter": "python",
      "pygments_lexer": "ipython3",
      "version": "3.6.1"
    }
  },
  "nbformat": 4,
  "nbformat_minor": 1
}