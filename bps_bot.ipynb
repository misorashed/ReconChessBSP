{
 "cells": [
  {
   "cell_type": "code",
   "execution_count": 21,
   "metadata": {},
   "outputs": [],
   "source": [
    "import random\n",
    "from reconchess import *\n",
    "\n",
    "\n",
    "class bps_bot(Player):\n",
    "    def handle_game_start(self, color: Color, board: chess.Board, opponent_name: str):\n",
    "        pass\n",
    "\n",
    "    def handle_opponent_move_result(self, captured_my_piece: bool, capture_square: Optional[Square]):\n",
    "        pass\n",
    "\n",
    "    def choose_sense(self, sense_actions: List[Square], move_actions: List[chess.Move], seconds_left: float) -> \\\n",
    "            Optional[Square]:\n",
    "        return random.choice(sense_actions)\n",
    "\n",
    "    def handle_sense_result(self, sense_result: List[Tuple[Square, Optional[chess.Piece]]]):\n",
    "        pass\n",
    "\n",
    "    def choose_move(self, move_actions: List[chess.Move], seconds_left: float) -> Optional[chess.Move]:\n",
    "        return random.choice(move_actions + [None])\n",
    "\n",
    "    def handle_move_result(self, requested_move: Optional[chess.Move], taken_move: Optional[chess.Move],\n",
    "                           captured_opponent_piece: bool, capture_square: Optional[Square]):\n",
    "        pass\n",
    "\n",
    "    def handle_game_end(self, winner_color: Optional[Color], win_reason: Optional[WinReason],\n",
    "                        game_history: GameHistory):\n",
    "        pass\n",
    "\n"
   ]
  },
  {
   "cell_type": "code",
   "execution_count": 14,
   "metadata": {},
   "outputs": [],
   "source": []
  },
  {
   "cell_type": "code",
   "execution_count": null,
   "metadata": {},
   "outputs": [],
   "source": []
  },
  {
   "cell_type": "code",
   "execution_count": null,
   "metadata": {},
   "outputs": [],
   "source": []
  }
 ],
 "metadata": {
  "kernelspec": {
   "display_name": "Python 3",
   "language": "python",
   "name": "python3"
  },
  "language_info": {
   "codemirror_mode": {
    "name": "ipython",
    "version": 3
   },
   "file_extension": ".py",
   "mimetype": "text/x-python",
   "name": "python",
   "nbconvert_exporter": "python",
   "pygments_lexer": "ipython3",
   "version": "3.7.0"
  }
 },
 "nbformat": 4,
 "nbformat_minor": 2
}
