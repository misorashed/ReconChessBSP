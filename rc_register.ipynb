{
  "cells": [
    {
      "cell_type": "code",
      "metadata": {},
      "source": [
        "import argparse\n",
        "import requests\n",
        "from reconchess.scripts.rc_connect import ask_for_username, ask_for_password\n",
        "\n",
        "\n",
        "def main():\n",
        "    parser = argparse.ArgumentParser(formatter_class=argparse.ArgumentDefaultsHelpFormatter)\n",
        "    parser.add_argument('--username', default=None, help='Name to register under. Enter with prompt if not specified.')\n",
        "    parser.add_argument('--email', default=None, help='Email to associate with account. Enter with prompt if not specified.')\n",
        "    parser.add_argument('--affiliation', default=None, help='Organization you are affiliated with.')\n",
        "    parser.add_argument('--password', default=None, help='Password to use. Enter with prompt if not specified.')\n",
        "    parser.add_argument('--server-url', default='https://rbc.jhuapl.edu', help='URL of the server.')\n",
        "    args = parser.parse_args()\n",
        "\n",
        "    try:\n",
        "        requests.get('{}/api/users'.format(args.server_url))\n",
        "    except:\n",
        "        print('No server found at {} - it may not be available yet.'.format(args.server_url))\n",
        "        quit()\n",
        "\n",
        "    username = ask_for_username() if args.username is None else args.username\n",
        "    email = input('Email: ') if args.email is None else args.email\n",
        "    affiliation = input('Affiliation: ') if args.affiliation is None else args.affiliation\n",
        "    password = ask_for_password() if args.password is None else args.password\n",
        "\n",
        "    response = requests.post('{}/api/users/'.format(args.server_url), json={\n",
        "        'username': username,\n",
        "        'email': email,\n",
        "        'affiliation': affiliation,\n",
        "        'password': password,\n",
        "    })\n",
        "\n",
        "    if response.status_code == 200:\n",
        "        username = response.json()['username']\n",
        "        print('Successfully registered with username \"{}\".'.format(username))\n",
        "    elif response.status_code == 409:\n",
        "        print('Unsuccessful... \"{}\" is already in use! Choose a different name.'.format(args.username))\n",
        "    else:\n",
        "        print('Unsuccessful... returncode={}'.format(response.status_code))\n",
        "\n",
        "\n",
        "if __name__ == '__main__':\n",
        "    main()\n"
      ],
      "outputs": [],
      "execution_count": null
    }
  ],
  "metadata": {
    "anaconda-cloud": {},
    "kernelspec": {
      "display_name": "Python 3",
      "language": "python",
      "name": "python3"
    },
    "language_info": {
      "codemirror_mode": {
        "name": "ipython",
        "version": 3
      },
      "file_extension": ".py",
      "mimetype": "text/x-python",
      "name": "python",
      "nbconvert_exporter": "python",
      "pygments_lexer": "ipython3",
      "version": "3.6.1"
    }
  },
  "nbformat": 4,
  "nbformat_minor": 1
}