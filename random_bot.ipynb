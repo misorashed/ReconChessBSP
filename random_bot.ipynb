{
  "cells": [
    {
      "cell_type": "code",
      "metadata": {},
      "source": [
        "import random\n",
        "from reconchess import *\n",
        "\n",
        "\n",
        "class RandomBot(Player):\n",
        "    def handle_game_start(self, color: Color, board: chess.Board, opponent_name: str):\n",
        "        pass\n",
        "\n",
        "    def handle_opponent_move_result(self, captured_my_piece: bool, capture_square: Optional[Square]):\n",
        "        pass\n",
        "\n",
        "    def choose_sense(self, sense_actions: List[Square], move_actions: List[chess.Move], seconds_left: float) -> \\\n",
        "            Optional[Square]:\n",
        "        return random.choice(sense_actions)\n",
        "\n",
        "    def handle_sense_result(self, sense_result: List[Tuple[Square, Optional[chess.Piece]]]):\n",
        "        pass\n",
        "\n",
        "    def choose_move(self, move_actions: List[chess.Move], seconds_left: float) -> Optional[chess.Move]:\n",
        "        return random.choice(move_actions + [None])\n",
        "\n",
        "    def handle_move_result(self, requested_move: Optional[chess.Move], taken_move: Optional[chess.Move],\n",
        "                           captured_opponent_piece: bool, capture_square: Optional[Square]):\n",
        "        pass\n",
        "\n",
        "    def handle_game_end(self, winner_color: Optional[Color], win_reason: Optional[WinReason],\n",
        "                        game_history: GameHistory):\n",
        "        pass\n"
      ],
      "outputs": [],
      "execution_count": null
    }
  ],
  "metadata": {
    "anaconda-cloud": {},
    "kernelspec": {
      "display_name": "Python 3",
      "language": "python",
      "name": "python3"
    },
    "language_info": {
      "codemirror_mode": {
        "name": "ipython",
        "version": 3
      },
      "file_extension": ".py",
      "mimetype": "text/x-python",
      "name": "python",
      "nbconvert_exporter": "python",
      "pygments_lexer": "ipython3",
      "version": "3.6.1"
    }
  },
  "nbformat": 4,
  "nbformat_minor": 1
}