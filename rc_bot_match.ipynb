{
  "cells": [
    {
      "cell_type": "code",
      "metadata": {},
      "source": [
        "import argparse\n",
        "import datetime\n",
        "import traceback\n",
        "import chess\n",
        "from reconchess import load_player, play_local_game, LocalGame\n",
        "\n",
        "\n",
        "def main():\n",
        "    parser = argparse.ArgumentParser(formatter_class=argparse.ArgumentDefaultsHelpFormatter)\n",
        "    parser.add_argument('white_bot_path', help='path to white bot source file')\n",
        "    parser.add_argument('black_bot_path', help='path to black bot source file')\n",
        "    parser.add_argument('--seconds_per_player', default=900, type=float,\n",
        "                        help='number of seconds each player has to play the entire game.')\n",
        "    args = parser.parse_args()\n",
        "\n",
        "    white_bot_name, white_player_cls = load_player(args.white_bot_path)\n",
        "    black_bot_name, black_player_cls = load_player(args.black_bot_path)\n",
        "\n",
        "    game = LocalGame(args.seconds_per_player)\n",
        "\n",
        "    try:\n",
        "        winner_color, win_reason, history = play_local_game(white_player_cls(), black_player_cls(), game=game)\n",
        "\n",
        "        winner = 'Draw' if winner_color is None else chess.COLOR_NAMES[winner_color]\n",
        "    except:\n",
        "        traceback.print_exc()\n",
        "        game.end()\n",
        "\n",
        "        winner = 'ERROR'\n",
        "        history = game.get_game_history()\n",
        "\n",
        "    print('Game Over!')\n",
        "    print('Winner: {}!'.format(winner))\n",
        "\n",
        "    timestamp = datetime.datetime.now().strftime('%Y_%m_%d-%H_%M_%S')\n",
        "\n",
        "    replay_path = '{}-{}-{}-{}.json'.format(white_bot_name, black_bot_name, winner, timestamp)\n",
        "    print('Saving replay to {}...'.format(replay_path))\n",
        "    history.save(replay_path)\n",
        "\n",
        "\n",
        "if __name__ == '__main__':\n",
        "    main()\n"
      ],
      "outputs": [],
      "execution_count": null
    }
  ],
  "metadata": {
    "anaconda-cloud": {},
    "kernelspec": {
      "display_name": "Python 3",
      "language": "python",
      "name": "python3"
    },
    "language_info": {
      "codemirror_mode": {
        "name": "ipython",
        "version": 3
      },
      "file_extension": ".py",
      "mimetype": "text/x-python",
      "name": "python",
      "nbconvert_exporter": "python",
      "pygments_lexer": "ipython3",
      "version": "3.6.1"
    }
  },
  "nbformat": 4,
  "nbformat_minor": 1
}